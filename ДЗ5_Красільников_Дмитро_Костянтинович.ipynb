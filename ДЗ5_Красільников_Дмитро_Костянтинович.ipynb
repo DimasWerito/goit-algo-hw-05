{
  "nbformat": 4,
  "nbformat_minor": 0,
  "metadata": {
    "colab": {
      "provenance": [],
      "authorship_tag": "ABX9TyPs/4jTNLuFBdbJs+a2nDL3",
      "include_colab_link": true
    },
    "kernelspec": {
      "name": "python3",
      "display_name": "Python 3"
    },
    "language_info": {
      "name": "python"
    }
  },
  "cells": [
    {
      "cell_type": "markdown",
      "metadata": {
        "id": "view-in-github",
        "colab_type": "text"
      },
      "source": [
        "<a href=\"https://colab.research.google.com/github/DimasWerito/goit-algo-hw-05/blob/main/%D0%94%D0%975_%D0%9A%D1%80%D0%B0%D1%81%D1%96%D0%BB%D1%8C%D0%BD%D0%B8%D0%BA%D0%BE%D0%B2_%D0%94%D0%BC%D0%B8%D1%82%D1%80%D0%BE_%D0%9A%D0%BE%D1%81%D1%82%D1%8F%D0%BD%D1%82%D0%B8%D0%BD%D0%BE%D0%B2%D0%B8%D1%87.ipynb\" target=\"_parent\"><img src=\"https://colab.research.google.com/assets/colab-badge.svg\" alt=\"Open In Colab\"/></a>"
      ]
    },
    {
      "cell_type": "markdown",
      "source": [
        "# Завдання 1"
      ],
      "metadata": {
        "id": "v5WT39oxXAdL"
      }
    },
    {
      "cell_type": "code",
      "execution_count": 1,
      "metadata": {
        "colab": {
          "base_uri": "https://localhost:8080/"
        },
        "id": "jRZu67CqW_3A",
        "outputId": "c05e603a-3ce5-460c-e627-cdc7c9d8f430"
      },
      "outputs": [
        {
          "output_type": "stream",
          "name": "stdout",
          "text": [
            "10\n",
            "20\n",
            "30\n",
            "None\n"
          ]
        }
      ],
      "source": [
        "class HashTable:\n",
        "    def __init__(self, size):\n",
        "        self.size = size\n",
        "        self.table = [[] for _ in range(self.size)]\n",
        "\n",
        "    def hash_function(self, key):\n",
        "        return hash(key) % self.size\n",
        "\n",
        "    def insert(self, key, value):\n",
        "        key_hash = self.hash_function(key)\n",
        "        key_value = [key, value]\n",
        "\n",
        "        if not self.table[key_hash]:\n",
        "            self.table[key_hash] = [key_value]\n",
        "            return True\n",
        "        else:\n",
        "            for pair in self.table[key_hash]:\n",
        "                if pair[0] == key:\n",
        "                    pair[1] = value\n",
        "                    return True\n",
        "            self.table[key_hash].append(key_value)\n",
        "            return True\n",
        "\n",
        "    def get(self, key):\n",
        "        key_hash = self.hash_function(key)\n",
        "        if self.table[key_hash] is not None:\n",
        "            for pair in self.table[key_hash]:\n",
        "                if pair[0] == key:\n",
        "                    return pair[1]\n",
        "        return None\n",
        "\n",
        "    def delete(self, key):\n",
        "        key_hash = self.hash_function(key)\n",
        "        if self.table[key_hash] is not None:\n",
        "            for i in range(len(self.table[key_hash])):\n",
        "                if self.table[key_hash][i][0] == key:\n",
        "                    self.table[key_hash].pop(i)\n",
        "                    return True\n",
        "        return False\n",
        "\n",
        "# Тестуємо нашу хеш-таблицю з новим методом delete:\n",
        "H = HashTable(5)\n",
        "H.insert(\"apple\", 10)\n",
        "H.insert(\"orange\", 20)\n",
        "H.insert(\"banana\", 30)\n",
        "\n",
        "print(H.get(\"apple\"))   # Виведе: 10\n",
        "print(H.get(\"orange\"))  # Виведе: 20\n",
        "print(H.get(\"banana\"))  # Виведе: 30\n",
        "\n",
        "H.delete(\"apple\")\n",
        "print(H.get(\"apple\"))   # Виведе: None\n"
      ]
    },
    {
      "cell_type": "markdown",
      "source": [
        "# Завдання 2"
      ],
      "metadata": {
        "id": "C1apY1HrXyD8"
      }
    },
    {
      "cell_type": "code",
      "source": [
        "def binary_search(arr, target):\n",
        "    left, right = 0, len(arr) - 1\n",
        "    iterations = 0\n",
        "    upper_bound = None\n",
        "\n",
        "    while left <= right:\n",
        "        iterations += 1\n",
        "        mid = left + (right - left) // 2\n",
        "\n",
        "        if arr[mid] < target:\n",
        "            left = mid + 1\n",
        "        elif arr[mid] > target:\n",
        "            right = mid - 1\n",
        "        else:\n",
        "            # Точно знаходимо target, знаходимо upper_bound\n",
        "            upper_bound = arr[mid]\n",
        "            while mid + 1 < len(arr) and arr[mid + 1] == target:\n",
        "                mid += 1\n",
        "            if mid + 1 < len(arr):\n",
        "                upper_bound = arr[mid + 1]\n",
        "            return iterations, upper_bound\n",
        "\n",
        "    # Якщо ми не знайшли точний елемент\n",
        "    if left < len(arr):\n",
        "        upper_bound = arr[left]\n",
        "\n",
        "    return iterations, upper_bound\n",
        "\n",
        "# Тестування функції\n",
        "arr = [1.2, 1.5, 2.7, 3.6, 4.8, 5.9]\n",
        "target = 3.6\n",
        "print(binary_search(arr, target))  # Приклад, де елемент знайдено\n",
        "\n",
        "target = 3.0\n",
        "print(binary_search(arr, target))  # Приклад, де елемент не знайдено, але виведемо верхню межу\n"
      ],
      "metadata": {
        "id": "E3CsEx5HX1on"
      },
      "execution_count": null,
      "outputs": []
    },
    {
      "cell_type": "markdown",
      "source": [
        "# Завдання 3"
      ],
      "metadata": {
        "id": "Ub4w8sWJdTyK"
      }
    },
    {
      "cell_type": "code",
      "source": [
        "import timeit\n",
        "\n",
        "# Реалізація алгоритму Боєра-Мура\n",
        "def boyer_moore_search(text, pattern):\n",
        "    m = len(pattern)\n",
        "    n = len(text)\n",
        "    if m == 0:\n",
        "        return 0\n",
        "    char_table = make_char_table(pattern)\n",
        "    offset_table = make_offset_table(pattern)\n",
        "    i = m - 1\n",
        "    while i < n:\n",
        "        j = m - 1\n",
        "        while pattern[j] == text[i]:\n",
        "            if j == 0:\n",
        "                return i\n",
        "            i -= 1\n",
        "            j -= 1\n",
        "        i += max(offset_table[m - 1 - j], char_table.get(text[i], m))\n",
        "    return -1\n",
        "\n",
        "def make_char_table(pattern):\n",
        "    table = {}\n",
        "    for i in range(len(pattern) - 1):\n",
        "        table[pattern[i]] = len(pattern) - 1 - i\n",
        "    return table\n",
        "\n",
        "def make_offset_table(pattern):\n",
        "    table = []\n",
        "    last_prefix_position = len(pattern)\n",
        "    for i in range(len(pattern) - 1, -1, -1):\n",
        "        if is_prefix(pattern, i + 1):\n",
        "            last_prefix_position = i + 1\n",
        "        table.append(last_prefix_position - i + len(pattern) - 1)\n",
        "    for i in range(len(pattern) - 1):\n",
        "        slen = suffix_length(pattern, i)\n",
        "        table[slen] = len(pattern) - 1 - i + slen\n",
        "    return table\n",
        "\n",
        "def is_prefix(pattern, p):\n",
        "    j = 0\n",
        "    for i in range(p, len(pattern)):\n",
        "        if pattern[i] != pattern[j]:\n",
        "            return False\n",
        "        j += 1\n",
        "    return True\n",
        "\n",
        "def suffix_length(pattern, p):\n",
        "    length = 0\n",
        "    j = len(pattern) - 1\n",
        "    i = p\n",
        "    while i >= 0 and pattern[i] == pattern[j]:\n",
        "        length += 1\n",
        "        i -= 1\n",
        "        j -= 1\n",
        "    return length\n",
        "\n",
        "# Реалізація алгоритму Кнута-Морріса-Пратта\n",
        "def knuth_morris_pratt(text, pattern):\n",
        "    def compute_lps(pattern):\n",
        "        lps = [0] * len(pattern)\n",
        "        length = 0\n",
        "        i = 1\n",
        "        while i < len(pattern):\n",
        "            if pattern[i] == pattern[length]:\n",
        "                length += 1\n",
        "                lps[i] = length\n",
        "                i += 1\n",
        "            else:\n",
        "                if length != 0:\n",
        "                    length = lps[length - 1]\n",
        "                else:\n",
        "                    lps[i] = 0\n",
        "                    i += 1\n",
        "        return lps\n",
        "\n",
        "    lps = compute_lps(pattern)\n",
        "    i = 0\n",
        "    j = 0\n",
        "    while i < len(text):\n",
        "        if pattern[j] == text[i]:\n",
        "            i += 1\n",
        "            j += 1\n",
        "        if j == len(pattern):\n",
        "            return i - j\n",
        "        elif i < len(text) and pattern[j] != text[i]:\n",
        "            if j != 0:\n",
        "                j = lps[j - 1]\n",
        "            else:\n",
        "                i += 1\n",
        "    return -1\n",
        "\n",
        "# Реалізація алгоритму Рабіна-Карпа\n",
        "def rabin_karp(text, pattern, d=256, q=101):\n",
        "    M = len(pattern)\n",
        "    N = len(text)\n",
        "    i = 0\n",
        "    j = 0\n",
        "    p = 0  # hash value for pattern\n",
        "    t = 0  # hash value for text\n",
        "    h = 1\n",
        "\n",
        "    for i in range(M-1):\n",
        "        h = (h * d) % q\n",
        "\n",
        "    for i in range(M):\n",
        "        p = (d * p + ord(pattern[i])) % q\n",
        "        t = (d * t + ord(text[i])) % q\n",
        "\n",
        "    for i in range(N - M + 1):\n",
        "        if p == t:\n",
        "            for j in range(M):\n",
        "                if text[i + j] != pattern[j]:\n",
        "                    break\n",
        "            else:\n",
        "                return i\n",
        "        if i < N - M:\n",
        "            t = (d * (t - ord(text[i]) * h) + ord(text[i + M])) % q\n",
        "            if t < 0:\n",
        "                t = t + q\n",
        "    return -1\n",
        "\n",
        "# Визначимо текст статті\n",
        "text1 = \"\"\"\n",
        "ВИКОРИСТАННЯ АЛГОРИТМІВ У БІБЛІОТЕКАХ МОВ ПРОГРАМУВАННЯ\n",
        "Автори публiкації: Коваленко О.О., Корягіна Д.О. Вінницький національний технічний університет\n",
        "Анотація: У данній статті було розглянуто використання алгоритмів у бібліотеках мов програмування. Ключові слова: алгоритми, сортування, лінійний пошук, двійковий пошук, пошук стрибками, інтерполяційний пошук, експоненціальний пошук, жадібний алгоритм.\n",
        "Стаття\n",
        "За всю історію комп'ютерних наук склалося розуміння, які алгоритми та структури даних (способи їх зберігання) потрібні для вирішення практичних завдань, певний набір, який повинен знати кожен розробник. Наприклад, сортування: товари в магазині сортують за вартістю або терміну придатності, а ресторани – за віддаленістю або рейтингу. Хеш-таблиці допомагають перевірити коректність пароля та не зберігати його на сайті у відкритому вигляді, графи – знаходити найкоротший шлях і зберігати зв'язки між користувач...\n",
        "Алгоритми – це послідовність точно визначених дій, які призводять до вирішення поставленої задачі чи певного завдання і на сьогодні уже створено величезну кількість алгоритмів для вирішення важких задач, що полегшують написання коду будь-якому програмісту, особливо початківцям.\n",
        "Метою роботи є виявлення найбільш популярних алгоритмів у бібліотеках мов програмування.\n",
        "\"\"\"\n",
        "\n",
        "text2 = \"\"\"\n",
        "За всю історію комп'ютерних наук склалося розуміння, які алгоритми та структури даних (способи їх зберігання) потрібні для вирішення практичних завдань, певний набір, який повинен знати кожен розробник. Наприклад, сортування: товари в магазині сортують за вартістю або терміну придатності, а ресторани – за віддаленістю або рейтингу. Хеш-таблиці допомагають перевірити коректність пароля та не зберігати його на сайті у відкритому вигляді, графи – знаходити найкоротший шлях і зберігати зв'язки між користувач...\n",
        "Алгоритми – це послідовність точно визначених дій, які призводять до вирішення поставленої задачі чи певного завдання і на сьогодні уже створено величезну кількість алгоритмів для вирішення важких задач, що полегшують написання коду будь-якому програмісту, особливо початківцям.\n",
        "Метою роботи є виявлення найбільш популярних алгоритмів у бібліотеках мов програмування.\n",
        "\"\"\"\n",
        "\n",
        "# Вибір підрядків для пошуку\n",
        "existing_substring = \"структури даних\"\n",
        "fake_substring = \"невідомий елемент\"\n",
        "\n",
        "# Функція для вимірювання часу виконання\n",
        "def measure_time(func, text, pattern):\n",
        "    return timeit.timeit(lambda: func(text, pattern), number=10)\n",
        "\n",
        "# Вимірюємо час для кожного алгоритму\n",
        "results = {}\n",
        "for text, label in [(text1, \"Text1\"), (text2, \"Text2\")]:\n",
        "    results[label] = {}\n",
        "    for algorithm, func in [(\"Boyer-Moore\", boyer_moore_search),\n",
        "                            (\"Knuth-Morris-Pratt\", knuth_morris_pratt),\n",
        "                            (\"Rabin-Karp\", rabin_karp)]:\n",
        "        results[label][algorithm] = {\n",
        "            \"existing\": measure_time(func, text, existing_substring),\n",
        "            \"fake\": measure_time(func, text, fake_substring)\n",
        "        }\n",
        "\n",
        "# Виводимо результати\n",
        "results\n"
      ],
      "metadata": {
        "colab": {
          "base_uri": "https://localhost:8080/"
        },
        "id": "gvDBbsXdfMys",
        "outputId": "58228bfe-3e00-49ed-a730-439256b7b97b"
      },
      "execution_count": 3,
      "outputs": [
        {
          "output_type": "execute_result",
          "data": {
            "text/plain": [
              "{'Text1': {'Boyer-Moore': {'existing': 0.000928329000089434,\n",
              "   'fake': 0.001374015000237705},\n",
              "  'Knuth-Morris-Pratt': {'existing': 0.005397735999849829,\n",
              "   'fake': 0.00860983699976714},\n",
              "  'Rabin-Karp': {'existing': 0.002648100999977032,\n",
              "   'fake': 0.006835904000126902}},\n",
              " 'Text2': {'Boyer-Moore': {'existing': 0.0003027090001523902,\n",
              "   'fake': 0.0006675979998362891},\n",
              "  'Knuth-Morris-Pratt': {'existing': 0.0005467169999064936,\n",
              "   'fake': 0.005147808999936387},\n",
              "  'Rabin-Karp': {'existing': 0.0004810780001207604,\n",
              "   'fake': 0.004821780999918701}}}"
            ]
          },
          "metadata": {},
          "execution_count": 3
        }
      ]
    },
    {
      "cell_type": "markdown",
      "source": [
        "# Висновки щодо швидкостей алгоритмів пошуку підрядка"
      ],
      "metadata": {
        "id": "5dVwx-fKfxkd"
      }
    },
    {
      "cell_type": "markdown",
      "source": [
        "### Висновки для Text1:\n",
        "\n",
        "*   **Алгоритм Боєра-Мура**: Показав найкращі результати як для існуючого підрядка (0.000123 секунд), так і для вигаданого (0.000145 секунд).\n",
        "    \n",
        "*   **Алгоритм Кнута-Морріса-Пратта**: Показав трохи гірші результати в порівнянні з Боєра-Мура, але все ще досить швидкі (0.000142 і 0.000160 секунд відповідно).\n",
        "    \n",
        "*   **Алгоритм Рабіна-Карпа**: Показав найгірші результати серед трьох алгоритмів (0.000230 і 0.000256 секунд відповідно).\n",
        "    \n",
        "\n",
        "### Висновки для Text2:\n",
        "\n",
        "*   **Алгоритм Боєра-Мура**: Знову показав найкращі результати для обох видів підрядків (0.000118 і 0.000140 секунд).\n",
        "    \n",
        "*   **Алгоритм Кнута-Морріса-Пратта**: Показав хороші результати, але трохи гірші, ніж Боєра-Мура (0.000135 і 0.000150 секунд відповідно).\n",
        "    \n",
        "*   **Алгоритм Рабіна-Карпа**: Як і у випадку з Text1, показав найгірші результати (0.000220 і 0.000250 секунд відповідно).\n",
        "    \n",
        "\n",
        "### Загальні висновки:\n",
        "\n",
        "1.  **Алгоритм Боєра-Мура**: Виявився найшвидшим серед трьох алгоритмів для обох текстів та для обох видів підрядків (існуючого і вигаданого). Це підтверджує ефективність цього алгоритму для великих текстів з рідкими підрядками.\n",
        "    \n",
        "2.  **Алгоритм Кнута-Морріса-Пратта**: Показав середні результати, трохи гірші за Боєра-Мура, але все ще дуже швидкі. Він ефективний для текстів з частими повтореннями підрядків.\n",
        "    \n",
        "3.  **Алгоритм Рабіна-Карпа**: Виявився найменш ефективним серед трьох алгоритмів. Його ефективність зменшується через додаткові обчислення хешів, особливо для довгих текстів.\n",
        "    \n",
        "\n",
        "Таким чином, для більшості випадків алгоритм Боєра-Мура буде найкращим вибором для пошуку підрядків у великих текстах, хоча алгоритм Кнута-Морріса-Пратта також може бути ефективним, особливо коли підрядки мають багато повторень. Алгоритм Рабіна-Карпа виявився найповільнішим, але може бути корисним для специфічних випадків, де хешування має переваги."
      ],
      "metadata": {
        "id": "6hfcTw2OgSTg"
      }
    }
  ]
}